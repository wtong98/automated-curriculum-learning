{
 "cells": [
  {
   "cell_type": "code",
   "execution_count": 1,
   "id": "7a8d882e",
   "metadata": {},
   "outputs": [],
   "source": [
    "from pathlib import Path\n",
    "import shutil\n",
    "import sys\n",
    "\n",
    "import matplotlib.pyplot as plt\n",
    "import numpy as np\n",
    "import pandas as pd\n",
    "import seaborn as sns\n",
    "from stable_baselines3 import PPO\n",
    "from tqdm import tqdm\n",
    "\n",
    "sys.path.append('../')\n",
    "from env import *\n",
    "from curriculum import *\n",
    "\n",
    "\n",
    "\"\"\"Ensure all data files are located here\"\"\"\n",
    "data_dir = Path('data/')\n",
    "\n",
    "\n",
    "def load_runs(run_dir):\n",
    "    run_dir = Path(run_dir)\n",
    "    df = None\n",
    "    for result_pkl in run_dir.iterdir():\n",
    "        if type(df) == type(None):\n",
    "            df = pd.read_pickle(result_pkl)\n",
    "        else:\n",
    "            tmp_df = pd.read_pickle(result_pkl)\n",
    "            df = pd.concat((df ,tmp_df))\n",
    "\n",
    "    def extract_plot_vals(row):\n",
    "        traj_lens = [len(traj) for traj in row['runs']]\n",
    "        assert len(traj_lens) == 1\n",
    "\n",
    "        return pd.Series([\n",
    "            row['name'],\n",
    "            traj_lens[0]\n",
    "        ], index=['name', 'traj_len'])\n",
    "\n",
    "    plot_df = df.apply(extract_plot_vals, axis=1)\n",
    "    return df, plot_df\n",
    "\n",
    "\n",
    "def make_plot(df, plot_df, title='Benchmarks', save_path=None):\n",
    "    # fig, axs = plt.subplots(1, 2, figsize=(8, 3))\n",
    "    fig, axs = plt.subplots(1, 1, figsize=(4, 2.5))\n",
    "    axs = [axs]\n",
    "\n",
    "    ax = sns.boxplot(plot_df, x='name', y='traj_len', ax=axs[0])\n",
    "    ax.set_ylabel('Steps')\n",
    "    ax.set_xlabel('')\n",
    "\n",
    "    x_labs = ax.get_xticklabels()\n",
    "    x_labs[0] = 'Adaptive'\n",
    "    ax.set_xticklabels(x_labs)\n",
    "    ax.set_title(title)\n",
    "\n",
    "    ax.spines.top.set_visible(False)\n",
    "    ax.spines.right.set_visible(False)\n",
    "    ax.spines.bottom.set_linewidth(1.25)\n",
    "    ax.spines.top.set_linewidth(1.25)\n",
    "\n",
    "\n",
    "\n",
    "    ### PLOT TRAJECTORIES\n",
    "    # for k, row in df.iterrows():\n",
    "    #     if k == 2:\n",
    "    #         break\n",
    "\n",
    "    #     for i, traj in enumerate(row['runs']):\n",
    "    #         if type(traj[0]) == tuple:\n",
    "    #             traj = next(zip(*traj))  # remove extraneous output\n",
    "\n",
    "    #         if i == 0:\n",
    "    #             axs[1].plot(traj, label=row['name'], color=f'C{k}', alpha=0.5)\n",
    "    #         else:\n",
    "    #             axs[1].plot(traj, color=f'C{k}', alpha=0.6)\n",
    "\n",
    "    # axs[1].set_xlabel('Steps')\n",
    "    # axs[1].set_ylabel('Difficulty index')\n",
    "    # axs[1].legend(loc='lower right')\n",
    "    # axs[1].set_title('Trajectory')\n",
    "\n",
    "    fig.tight_layout()\n",
    "\n",
    "    if save_path is not None:\n",
    "        plt.savefig(save_path)\n",
    "\n",
    "\n",
    "def run_model(model_path, trail_map):\n",
    "    model = PPO.load(model_path, device='cpu', custom_objects={'lr_schedule': 0, 'clip_range': 0})\n",
    "    env = TrailEnv(trail_map, discrete=True, treadmill=True)\n",
    "\n",
    "    obs = env.reset()\n",
    "    all_obs = [obs]\n",
    "    while True:\n",
    "        action, _ = model.predict(obs, deterministic=True)\n",
    "        obs, _, is_done, _ = env.step(action)\n",
    "\n",
    "        all_obs.append(obs)\n",
    "\n",
    "        if is_done:\n",
    "            break\n",
    "\n",
    "    return np.array(env.agent.position_history), {'agent': env.agent, 'obs': all_obs}\n",
    "\n",
    "\n",
    "def plot_run(trail_map, pos_hist, save_path=None, ax=None, **plot_kwargs):\n",
    "    if ax is None:\n",
    "        ax = plt.gca()\n",
    "\n",
    "    trail_map.plot(ax=ax, **plot_kwargs)\n",
    "    ax.plot(pos_hist[:,0], pos_hist[:,1], linewidth=1.5, color='black')\n",
    "\n",
    "    # fig.tight_layout()\n",
    "    plt.axis('off')\n",
    "    if save_path is not None:\n",
    "        plt.savefig(save_path)\n",
    "\n",
    "\n",
    "def plot_observations(i, obs, fig_path):\n",
    "    obs_dir = fig_path / f'example_{i}_obs'\n",
    "    if obs_dir.exists():\n",
    "        shutil.rmtree(obs_dir)\n",
    "    \n",
    "    obs_dir.mkdir()\n",
    "    for i, obs in enumerate(obs):\n",
    "        plt.clf()\n",
    "        plt.gca().set_axis_off()\n",
    "        plt.imshow(obs / (np.max(obs, axis=(0, 1)) + 1e-8), interpolation='nearest')\n",
    "        plt.savefig(obs_dir / f'obs_{i}.svg')\n"
   ]
  },
  {
   "cell_type": "markdown",
   "id": "b9ab9213",
   "metadata": {},
   "source": [
    "# Benchmark plots"
   ]
  },
  {
   "cell_type": "code",
   "execution_count": 2,
   "id": "83b93c92",
   "metadata": {},
   "outputs": [
    {
     "name": "stderr",
     "output_type": "stream",
     "text": [
      "/tmp/ipykernel_29703/3931077609.py:55: UserWarning: FixedFormatter should only be used together with FixedLocator\n",
      "  ax.set_xticklabels(x_labs)\n"
     ]
    },
    {
     "data": {
      "image/png": "[encoded data removed]",
      "text/plain": [
       "<Figure size 288x180 with 1 Axes>"
      ]
     },
     "metadata": {
      "needs_background": "light"
     },
     "output_type": "display_data"
    }
   ],
   "source": [
    "res = load_runs(data_dir / 'trail_runs')\n",
    "# make_plot(*res, title='Trail Benchmark', save_path='fig/meander_bench.svg')\n",
    "make_plot(*res, title='Trail Benchmark', save_path=None)\n"
   ]
  },
  {
   "cell_type": "code",
   "execution_count": 18,
   "id": "a1f6c7c3",
   "metadata": {},
   "outputs": [
    {
     "data": {
      "image/png": "[encoded data removed]",
      "text/plain": [
       "<Figure size 288x180 with 1 Axes>"
      ]
     },
     "metadata": {
      "needs_background": "light"
     },
     "output_type": "display_data"
    }
   ],
   "source": [
    "res = load_runs(data_dir / 'plume_runs')\n",
    "make_plot(*res, title='Plume Benchmark', save_path='fig/plume_bench.svg')"
   ]
  },
  {
   "cell_type": "markdown",
   "id": "694b953d",
   "metadata": {},
   "source": [
    "# Plot sample runs"
   ]
  },
  {
   "cell_type": "code",
   "execution_count": 2,
   "id": "2f3d1e13",
   "metadata": {},
   "outputs": [
    {
     "name": "stderr",
     "output_type": "stream",
     "text": [
      "  0%|          | 0/20 [00:00<?, ?it/s]"
     ]
    },
    {
     "name": "stderr",
     "output_type": "stream",
     "text": [
      "100%|██████████| 20/20 [08:21<00:00, 25.09s/it]\n"
     ]
    },
    {
     "data": {
      "image/png": "[encoded data removed]",
      "text/plain": [
       "<Figure size 432x1096.19 with 1 Axes>"
      ]
     },
     "metadata": {
      "needs_background": "light"
     },
     "output_type": "display_data"
    }
   ],
   "source": [
    "\"\"\"Meander trail\"\"\"\n",
    "\n",
    "model_path = data_dir / 'meander_agent.zip'\n",
    "save_path = Path('trail_examples/')\n",
    "if not save_path.exists():\n",
    "    save_path.mkdir()\n",
    "\n",
    "if not save_path.exists():\n",
    "    save_path.mkdir()\n",
    "\n",
    "trail_args = {\n",
    "    'width': 5,\n",
    "    'diff_rate': 0.02,\n",
    "    'radius': 70,\n",
    "    'reward_dist': -1,\n",
    "    'range': (-np.pi, np.pi)\n",
    "}\n",
    "trail_args['length'] = 500\n",
    "trail_args['breaks'] = [(0.3, 0.32), (0.5, 0.53), (0.7, 0.72)]\n",
    "\n",
    "\"\"\"Determine how many sample runs you would like\"\"\"\n",
    "n_samps = 20\n",
    "\n",
    "for i in tqdm(range(n_samps)):\n",
    "    trail_map = MeanderTrail(**trail_args, heading=0)\n",
    "    trail_map.max_steps = 1000\n",
    "\n",
    "    pos_hist, info = run_model(model_path, trail_map)\n",
    "    plt.clf()\n",
    "    plot_run(trail_map, pos_hist, save_path=save_path / f'example_{i}.svg')\n",
    "    plot_observations(i, info['obs'], save_path)"
   ]
  },
  {
   "cell_type": "code",
   "execution_count": 3,
   "id": "e0229c43",
   "metadata": {},
   "outputs": [
    {
     "name": "stderr",
     "output_type": "stream",
     "text": [
      "  0%|          | 0/20 [00:00<?, ?it/s]"
     ]
    },
    {
     "name": "stdout",
     "output_type": "stream",
     "text": [
      "LVLS [ 0.06666667  0.07081858  0.07552199  0.0808946   0.08709016  0.09431345\n",
      "  0.10284332  0.1130695   0.12555391  0.1411374   0.16113744  0.18774158\n",
      "  0.22486772  0.28029678  0.37199125  0.55284553  1.07594937 20.        ]\n"
     ]
    },
    {
     "name": "stderr",
     "output_type": "stream",
     "text": [
      "  5%|▌         | 1/20 [00:01<00:37,  1.97s/it]"
     ]
    },
    {
     "name": "stdout",
     "output_type": "stream",
     "text": [
      "LVLS [ 0.06666667  0.07081858  0.07552199  0.0808946   0.08709016  0.09431345\n",
      "  0.10284332  0.1130695   0.12555391  0.1411374   0.16113744  0.18774158\n",
      "  0.22486772  0.28029678  0.37199125  0.55284553  1.07594937 20.        ]\n"
     ]
    },
    {
     "name": "stderr",
     "output_type": "stream",
     "text": [
      " 10%|█         | 2/20 [00:07<01:17,  4.32s/it]"
     ]
    },
    {
     "name": "stdout",
     "output_type": "stream",
     "text": [
      "LVLS [ 0.06666667  0.07081858  0.07552199  0.0808946   0.08709016  0.09431345\n",
      "  0.10284332  0.1130695   0.12555391  0.1411374   0.16113744  0.18774158\n",
      "  0.22486772  0.28029678  0.37199125  0.55284553  1.07594937 20.        ]\n"
     ]
    },
    {
     "name": "stderr",
     "output_type": "stream",
     "text": [
      " 15%|█▌        | 3/20 [00:09<00:54,  3.22s/it]"
     ]
    },
    {
     "name": "stdout",
     "output_type": "stream",
     "text": [
      "LVLS [ 0.06666667  0.07081858  0.07552199  0.0808946   0.08709016  0.09431345\n",
      "  0.10284332  0.1130695   0.12555391  0.1411374   0.16113744  0.18774158\n",
      "  0.22486772  0.28029678  0.37199125  0.55284553  1.07594937 20.        ]\n"
     ]
    },
    {
     "name": "stderr",
     "output_type": "stream",
     "text": [
      " 20%|██        | 4/20 [00:11<00:43,  2.69s/it]"
     ]
    },
    {
     "name": "stdout",
     "output_type": "stream",
     "text": [
      "LVLS [ 0.06666667  0.07081858  0.07552199  0.0808946   0.08709016  0.09431345\n",
      "  0.10284332  0.1130695   0.12555391  0.1411374   0.16113744  0.18774158\n",
      "  0.22486772  0.28029678  0.37199125  0.55284553  1.07594937 20.        ]\n"
     ]
    },
    {
     "name": "stderr",
     "output_type": "stream",
     "text": [
      " 25%|██▌       | 5/20 [00:15<00:48,  3.24s/it]"
     ]
    },
    {
     "name": "stdout",
     "output_type": "stream",
     "text": [
      "LVLS [ 0.06666667  0.07081858  0.07552199  0.0808946   0.08709016  0.09431345\n",
      "  0.10284332  0.1130695   0.12555391  0.1411374   0.16113744  0.18774158\n",
      "  0.22486772  0.28029678  0.37199125  0.55284553  1.07594937 20.        ]\n"
     ]
    },
    {
     "name": "stderr",
     "output_type": "stream",
     "text": [
      " 30%|███       | 6/20 [00:20<00:53,  3.81s/it]"
     ]
    },
    {
     "name": "stdout",
     "output_type": "stream",
     "text": [
      "LVLS [ 0.06666667  0.07081858  0.07552199  0.0808946   0.08709016  0.09431345\n",
      "  0.10284332  0.1130695   0.12555391  0.1411374   0.16113744  0.18774158\n",
      "  0.22486772  0.28029678  0.37199125  0.55284553  1.07594937 20.        ]\n"
     ]
    },
    {
     "name": "stderr",
     "output_type": "stream",
     "text": [
      " 35%|███▌      | 7/20 [00:29<01:10,  5.41s/it]"
     ]
    },
    {
     "name": "stdout",
     "output_type": "stream",
     "text": [
      "LVLS [ 0.06666667  0.07081858  0.07552199  0.0808946   0.08709016  0.09431345\n",
      "  0.10284332  0.1130695   0.12555391  0.1411374   0.16113744  0.18774158\n",
      "  0.22486772  0.28029678  0.37199125  0.55284553  1.07594937 20.        ]\n"
     ]
    },
    {
     "name": "stderr",
     "output_type": "stream",
     "text": [
      " 40%|████      | 8/20 [00:34<01:04,  5.42s/it]"
     ]
    },
    {
     "name": "stdout",
     "output_type": "stream",
     "text": [
      "LVLS [ 0.06666667  0.07081858  0.07552199  0.0808946   0.08709016  0.09431345\n",
      "  0.10284332  0.1130695   0.12555391  0.1411374   0.16113744  0.18774158\n",
      "  0.22486772  0.28029678  0.37199125  0.55284553  1.07594937 20.        ]\n"
     ]
    },
    {
     "name": "stderr",
     "output_type": "stream",
     "text": [
      " 45%|████▌     | 9/20 [00:43<01:08,  6.24s/it]"
     ]
    },
    {
     "name": "stdout",
     "output_type": "stream",
     "text": [
      "LVLS [ 0.06666667  0.07081858  0.07552199  0.0808946   0.08709016  0.09431345\n",
      "  0.10284332  0.1130695   0.12555391  0.1411374   0.16113744  0.18774158\n",
      "  0.22486772  0.28029678  0.37199125  0.55284553  1.07594937 20.        ]\n"
     ]
    },
    {
     "name": "stderr",
     "output_type": "stream",
     "text": [
      " 50%|█████     | 10/20 [00:47<00:56,  5.68s/it]"
     ]
    },
    {
     "name": "stdout",
     "output_type": "stream",
     "text": [
      "LVLS [ 0.06666667  0.07081858  0.07552199  0.0808946   0.08709016  0.09431345\n",
      "  0.10284332  0.1130695   0.12555391  0.1411374   0.16113744  0.18774158\n",
      "  0.22486772  0.28029678  0.37199125  0.55284553  1.07594937 20.        ]\n"
     ]
    },
    {
     "name": "stderr",
     "output_type": "stream",
     "text": [
      " 55%|█████▌    | 11/20 [00:49<00:41,  4.57s/it]"
     ]
    },
    {
     "name": "stdout",
     "output_type": "stream",
     "text": [
      "LVLS [ 0.06666667  0.07081858  0.07552199  0.0808946   0.08709016  0.09431345\n",
      "  0.10284332  0.1130695   0.12555391  0.1411374   0.16113744  0.18774158\n",
      "  0.22486772  0.28029678  0.37199125  0.55284553  1.07594937 20.        ]\n"
     ]
    },
    {
     "name": "stderr",
     "output_type": "stream",
     "text": [
      " 60%|██████    | 12/20 [00:56<00:42,  5.35s/it]"
     ]
    },
    {
     "name": "stdout",
     "output_type": "stream",
     "text": [
      "LVLS [ 0.06666667  0.07081858  0.07552199  0.0808946   0.08709016  0.09431345\n",
      "  0.10284332  0.1130695   0.12555391  0.1411374   0.16113744  0.18774158\n",
      "  0.22486772  0.28029678  0.37199125  0.55284553  1.07594937 20.        ]\n"
     ]
    },
    {
     "name": "stderr",
     "output_type": "stream",
     "text": [
      " 65%|██████▌   | 13/20 [01:02<00:37,  5.36s/it]"
     ]
    },
    {
     "name": "stdout",
     "output_type": "stream",
     "text": [
      "LVLS [ 0.06666667  0.07081858  0.07552199  0.0808946   0.08709016  0.09431345\n",
      "  0.10284332  0.1130695   0.12555391  0.1411374   0.16113744  0.18774158\n",
      "  0.22486772  0.28029678  0.37199125  0.55284553  1.07594937 20.        ]\n"
     ]
    },
    {
     "name": "stderr",
     "output_type": "stream",
     "text": [
      " 70%|███████   | 14/20 [01:05<00:27,  4.65s/it]"
     ]
    },
    {
     "name": "stdout",
     "output_type": "stream",
     "text": [
      "LVLS [ 0.06666667  0.07081858  0.07552199  0.0808946   0.08709016  0.09431345\n",
      "  0.10284332  0.1130695   0.12555391  0.1411374   0.16113744  0.18774158\n",
      "  0.22486772  0.28029678  0.37199125  0.55284553  1.07594937 20.        ]\n"
     ]
    },
    {
     "name": "stderr",
     "output_type": "stream",
     "text": [
      " 75%|███████▌  | 15/20 [01:07<00:19,  3.91s/it]"
     ]
    },
    {
     "name": "stdout",
     "output_type": "stream",
     "text": [
      "LVLS [ 0.06666667  0.07081858  0.07552199  0.0808946   0.08709016  0.09431345\n",
      "  0.10284332  0.1130695   0.12555391  0.1411374   0.16113744  0.18774158\n",
      "  0.22486772  0.28029678  0.37199125  0.55284553  1.07594937 20.        ]\n"
     ]
    },
    {
     "name": "stderr",
     "output_type": "stream",
     "text": [
      " 80%|████████  | 16/20 [01:15<00:20,  5.08s/it]"
     ]
    },
    {
     "name": "stdout",
     "output_type": "stream",
     "text": [
      "LVLS [ 0.06666667  0.07081858  0.07552199  0.0808946   0.08709016  0.09431345\n",
      "  0.10284332  0.1130695   0.12555391  0.1411374   0.16113744  0.18774158\n",
      "  0.22486772  0.28029678  0.37199125  0.55284553  1.07594937 20.        ]\n"
     ]
    },
    {
     "name": "stderr",
     "output_type": "stream",
     "text": [
      " 85%|████████▌ | 17/20 [01:20<00:15,  5.15s/it]"
     ]
    },
    {
     "name": "stdout",
     "output_type": "stream",
     "text": [
      "LVLS [ 0.06666667  0.07081858  0.07552199  0.0808946   0.08709016  0.09431345\n",
      "  0.10284332  0.1130695   0.12555391  0.1411374   0.16113744  0.18774158\n",
      "  0.22486772  0.28029678  0.37199125  0.55284553  1.07594937 20.        ]\n"
     ]
    },
    {
     "name": "stderr",
     "output_type": "stream",
     "text": [
      " 90%|█████████ | 18/20 [01:26<00:10,  5.39s/it]"
     ]
    },
    {
     "name": "stdout",
     "output_type": "stream",
     "text": [
      "LVLS [ 0.06666667  0.07081858  0.07552199  0.0808946   0.08709016  0.09431345\n",
      "  0.10284332  0.1130695   0.12555391  0.1411374   0.16113744  0.18774158\n",
      "  0.22486772  0.28029678  0.37199125  0.55284553  1.07594937 20.        ]\n"
     ]
    },
    {
     "name": "stderr",
     "output_type": "stream",
     "text": [
      " 95%|█████████▌| 19/20 [01:29<00:04,  4.79s/it]"
     ]
    },
    {
     "name": "stdout",
     "output_type": "stream",
     "text": [
      "LVLS [ 0.06666667  0.07081858  0.07552199  0.0808946   0.08709016  0.09431345\n",
      "  0.10284332  0.1130695   0.12555391  0.1411374   0.16113744  0.18774158\n",
      "  0.22486772  0.28029678  0.37199125  0.55284553  1.07594937 20.        ]\n"
     ]
    },
    {
     "name": "stderr",
     "output_type": "stream",
     "text": [
      "100%|██████████| 20/20 [01:32<00:00,  4.63s/it]\n"
     ]
    },
    {
     "data": {
      "image/png": "[encoded data removed]",
      "text/plain": [
       "<Figure size 432x459.043 with 1 Axes>"
      ]
     },
     "metadata": {
      "needs_background": "light"
     },
     "output_type": "display_data"
    },
    {
     "data": {
      "image/png": "[encoded data removed]",
      "text/plain": [
       "<Figure size 432x563.615 with 1 Axes>"
      ]
     },
     "metadata": {
      "needs_background": "light"
     },
     "output_type": "display_data"
    },
    {
     "data": {
      "image/png": "[encoded data removed]",
      "text/plain": [
       "<Figure size 432x498.626 with 1 Axes>"
      ]
     },
     "metadata": {
      "needs_background": "light"
     },
     "output_type": "display_data"
    },
    {
     "data": {
      "image/png": "[encoded data removed]",
      "text/plain": [
       "<Figure size 432x490.26 with 1 Axes>"
      ]
     },
     "metadata": {
      "needs_background": "light"
     },
     "output_type": "display_data"
    },
    {
     "data": {
      "image/png": "[encoded data removed]",
      "text/plain": [
       "<Figure size 432x495.631 with 1 Axes>"
      ]
     },
     "metadata": {
      "needs_background": "light"
     },
     "output_type": "display_data"
    },
    {
     "data": {
      "image/png": "[encoded data removed]",
      "text/plain": [
       "<Figure size 432x511.972 with 1 Axes>"
      ]
     },
     "metadata": {
      "needs_background": "light"
     },
     "output_type": "display_data"
    },
    {
     "data": {
      "image/png": "[encoded data removed]",
      "text/plain": [
       "<Figure size 432x552.573 with 1 Axes>"
      ]
     },
     "metadata": {
      "needs_background": "light"
     },
     "output_type": "display_data"
    },
    {
     "data": {
      "image/png": "[encoded data removed]",
      "text/plain": [
       "<Figure size 432x497.941 with 1 Axes>"
      ]
     },
     "metadata": {
      "needs_background": "light"
     },
     "output_type": "display_data"
    },
    {
     "data": {
      "image/png": "[encoded data removed]",
      "text/plain": [
       "<Figure size 432x580.913 with 1 Axes>"
      ]
     },
     "metadata": {
      "needs_background": "light"
     },
     "output_type": "display_data"
    },
    {
     "data": {
      "image/png": "[encoded data removed]",
      "text/plain": [
       "<Figure size 432x650.559 with 1 Axes>"
      ]
     },
     "metadata": {
      "needs_background": "light"
     },
     "output_type": "display_data"
    },
    {
     "data": {
      "image/png": "[encoded data removed]",
      "text/plain": [
       "<Figure size 432x467.286 with 1 Axes>"
      ]
     },
     "metadata": {
      "needs_background": "light"
     },
     "output_type": "display_data"
    },
    {
     "data": {
      "image/png": "[encoded data removed]",
      "text/plain": [
       "<Figure size 432x517.811 with 1 Axes>"
      ]
     },
     "metadata": {
      "needs_background": "light"
     },
     "output_type": "display_data"
    },
    {
     "data": {
      "image/png": "[encoded data removed]",
      "text/plain": [
       "<Figure size 432x535.978 with 1 Axes>"
      ]
     },
     "metadata": {
      "needs_background": "light"
     },
     "output_type": "display_data"
    },
    {
     "data": {
      "image/png": "[encoded data removed]",
      "text/plain": [
       "<Figure size 432x554.035 with 1 Axes>"
      ]
     },
     "metadata": {
      "needs_background": "light"
     },
     "output_type": "display_data"
    },
    {
     "data": {
      "image/png": "[encoded data removed]",
      "text/plain": [
       "<Figure size 432x483.057 with 1 Axes>"
      ]
     },
     "metadata": {
      "needs_background": "light"
     },
     "output_type": "display_data"
    },
    {
     "data": {
      "image/png": "[encoded data removed]",
      "text/plain": [
       "<Figure size 432x547.786 with 1 Axes>"
      ]
     },
     "metadata": {
      "needs_background": "light"
     },
     "output_type": "display_data"
    },
    {
     "data": {
      "image/png": "[encoded data removed]",
      "text/plain": [
       "<Figure size 432x511.056 with 1 Axes>"
      ]
     },
     "metadata": {
      "needs_background": "light"
     },
     "output_type": "display_data"
    },
    {
     "data": {
      "image/png": "[encoded data removed]",
      "text/plain": [
       "<Figure size 432x462.84 with 1 Axes>"
      ]
     },
     "metadata": {
      "needs_background": "light"
     },
     "output_type": "display_data"
    },
    {
     "data": {
      "image/png": "[encoded data removed]",
      "text/plain": [
       "<Figure size 432x483.036 with 1 Axes>"
      ]
     },
     "metadata": {
      "needs_background": "light"
     },
     "output_type": "display_data"
    },
    {
     "data": {
      "image/png": "[encoded data removed]",
      "text/plain": [
       "<Figure size 432x531.475 with 1 Axes>"
      ]
     },
     "metadata": {
      "needs_background": "light"
     },
     "output_type": "display_data"
    }
   ],
   "source": [
    "\"\"\"Plume trail\"\"\"\n",
    "\n",
    "model_path = data_dir / 'plume_agent.zip'\n",
    "\n",
    "trail_args = {\n",
    "    'wind_speed': 5,\n",
    "    'length_scale': 20,\n",
    "    'heading': 0,\n",
    "    'start_rate': 0.25,\n",
    "    'max_steps': 'auto',\n",
    "}\n",
    "\n",
    "n_samps = 20\n",
    "\n",
    "path = Path(f'plume_examples/')\n",
    "if not path.exists():\n",
    "    path.mkdir()\n",
    "\n",
    "for i in tqdm(range(n_samps)):\n",
    "\n",
    "    maps = []\n",
    "    position_hists = []\n",
    "    odor_hists = []\n",
    "\n",
    "    trail_map = PlumeTrail(**trail_args)\n",
    "    _, info = run_model(model_path, trail_map)\n",
    "    agent = info['agent']\n",
    "\n",
    "    maps.append(trail_map)\n",
    "    position_hists.append(np.array(agent.position_history))\n",
    "    odor_hists.append(agent.odor_history)\n",
    "\n",
    "    fig, axs = plt.subplots(1, 1, figsize=(6, 12))\n",
    "\n",
    "    for ax, m, p_hist, odor_hist in zip([axs], maps, position_hists, odor_hists):\n",
    "        odor_hist = np.array(odor_hist)\n",
    "        odor_hist = odor_hist[odor_hist[:,0] > 0]\n",
    "\n",
    "        x_min = min(-30, np.min(p_hist[:,0]))\n",
    "        x_max = max(30, np.max(p_hist[:,0]))\n",
    "\n",
    "        y_min = min(-50, np.min(p_hist[:,1]))\n",
    "        y_max = max(10, np.max(p_hist[:,1]))\n",
    "\n",
    "        m.plot(ax=ax, x_lim=(x_min-20, x_max+20), y_lim=(y_min - 20, y_max + 20))\n",
    "        ax.plot(p_hist[:,0], p_hist[:,1], linewidth=1.5, color='black')\n",
    "        ax.scatter(odor_hist[:,1], odor_hist[:,2], color='darkturquoise', alpha=0.8, s=20)\n",
    "\n",
    "    ratio = (y_max - y_min + 40) / (x_max - x_min + 40)\n",
    "    height = 6 * ratio\n",
    "\n",
    "    fig.set_size_inches((6, height))\n",
    "    fig.tight_layout()\n",
    "\n",
    "    plt.axis('off')\n",
    "    plt.savefig(str(path / f'example_{i}.svg'))\n",
    "    \n",
    "    plt.clf()\n",
    "\n",
    "    plot_observations(i, info['obs'], path)\n"
   ]
  },
  {
   "cell_type": "markdown",
   "id": "3f986fca",
   "metadata": {},
   "source": [
    "# Plot success rate"
   ]
  },
  {
   "cell_type": "code",
   "execution_count": 15,
   "id": "15fd3a50",
   "metadata": {},
   "outputs": [
    {
     "name": "stdout",
     "output_type": "stream",
     "text": [
      "dict_keys(['adp', 'inc', 'df'])\n",
      "dict_keys(['inc', 'adp', 'df'])\n",
      "dict_keys(['adp', 'inc', 'df'])\n",
      "dict_keys(['inc', 'adp', 'df'])\n",
      "dict_keys(['inc', 'adp', 'df'])\n"
     ]
    },
    {
     "data": {
      "text/plain": [
       "<Figure size 576x216 with 0 Axes>"
      ]
     },
     "metadata": {},
     "output_type": "display_data"
    }
   ],
   "source": [
    "\"\"\"Meander estimates\"\"\"\n",
    "\n",
    "def plot_estimates(df, probs, name, save_path=None):\n",
    "    idx = None\n",
    "    if name == 'adp':\n",
    "        idx = 0\n",
    "    elif name == 'inc':\n",
    "        idx = 1\n",
    "    else:\n",
    "        raise ValueError('name should be \"adp\" or \"inc\"')\n",
    "\n",
    "    traj = np.array([t for t in df.runs[idx][0]])\n",
    "\n",
    "    plt.gcf().set_size_inches(8, 3)\n",
    "    ax = plt.gca()\n",
    "\n",
    "    ticks = np.arange(6)\n",
    "    ax.set_yticks(ticks, np.flip(np.arange(6) + 1))\n",
    "    ax.set_ylabel('N')\n",
    "    ax.set_xlabel('Steps')\n",
    "\n",
    "    ratio = probs[:,1:] / (probs[:,:-1] + 1e-8)\n",
    "    ratio = np.concatenate((probs[:,[0]], ratio), axis=1)\n",
    "    ratio = np.clip(ratio, 0.01, 0.99)\n",
    "    qr = np.log(ratio / (1 - ratio))\n",
    "\n",
    "    qr = probs\n",
    "    qr = np.flip(qr.T, axis=0)\n",
    "    ax.imshow(qr, aspect='auto')\n",
    "\n",
    "    ax.plot(4.6 - traj, color='red', linewidth=3)\n",
    "\n",
    "    plt.gcf().tight_layout()\n",
    "\n",
    "    if save_path is not None:\n",
    "        plt.savefig(save_path)\n",
    "\n",
    "\n",
    "estm_dir = Path(data_dir / 'trail_sample/estimates')\n",
    "estimates = {}\n",
    "\n",
    "for fp in estm_dir.iterdir():\n",
    "    if fp.suffix != '.npy':\n",
    "        continue\n",
    "\n",
    "    name, idx, _ = fp.name.split('.')\n",
    "    _, teacher_name, _ = name.split('_')\n",
    "    if idx not in estimates:\n",
    "        estimates[idx] = {}\n",
    "\n",
    "    estimates[idx][teacher_name] = np.load(fp)\n",
    "\n",
    "for fp in estm_dir.iterdir():\n",
    "    if fp.suffix != '.pkl':\n",
    "        continue\n",
    "    \n",
    "    _, _, idx = fp.stem.split('_')\n",
    "    estimates[idx]['df'] = pd.read_pickle(fp)\n",
    "\n",
    "save_dir = Path('meander_est_plots')\n",
    "if not save_dir.exists():\n",
    "    save_dir.mkdir()\n",
    "\n",
    "for idx, res in estimates.items():\n",
    "    print(res.keys())\n",
    "    for name in ('inc', 'adp'):\n",
    "        plot_estimates(res['df'], res[name], name, save_path=save_dir / f'meander_{idx}_{name}.png')\n",
    "        plt.clf()"
   ]
  },
  {
   "cell_type": "code",
   "execution_count": 14,
   "id": "87af9aff",
   "metadata": {},
   "outputs": [
    {
     "name": "stdout",
     "output_type": "stream",
     "text": [
      "dict_keys(['inc', 'adp', 'df'])\n",
      "dict_keys(['adp', 'inc', 'df'])\n",
      "dict_keys(['adp', 'inc', 'df'])\n",
      "dict_keys(['adp', 'inc', 'df'])\n",
      "dict_keys(['inc', 'adp', 'df'])\n"
     ]
    },
    {
     "data": {
      "text/plain": [
       "<Figure size 576x216 with 0 Axes>"
      ]
     },
     "metadata": {},
     "output_type": "display_data"
    }
   ],
   "source": [
    "\"\"\"Plume estimates\"\"\"\n",
    "\n",
    "def plot_estimates(df, probs, name, save_path=None):\n",
    "    idx = None\n",
    "    if name == 'adp':\n",
    "        idx = 0\n",
    "    elif name == 'inc':\n",
    "        idx = 1\n",
    "    else:\n",
    "        raise ValueError('name should be \"adp\" or \"inc\"')\n",
    "\n",
    "    traj = np.array([t for t, _ in df.runs[idx][0]])\n",
    "\n",
    "    plt.gcf().set_size_inches(8, 3)\n",
    "    ax = plt.gca()\n",
    "\n",
    "    ticks = np.arange(8)\n",
    "    ax.set_yticks(ticks, np.flip(np.arange(8) + 1))\n",
    "    ax.set_ylabel('N')\n",
    "    ax.set_xlabel('Steps')\n",
    "\n",
    "    ratio = probs[:,1:] / (probs[:,:-1] + 1e-8)\n",
    "    ratio = np.concatenate((probs[:,[0]], ratio), axis=1)\n",
    "    ratio = np.clip(ratio, 0.01, 0.99)\n",
    "    qr = np.log(ratio / (1 - ratio))\n",
    "\n",
    "    qr = probs\n",
    "    qr = np.flip(qr.T, axis=0)\n",
    "    ax.imshow(qr, aspect='auto')\n",
    "\n",
    "    ax.plot(6.5 - traj, color='red', linewidth=3)\n",
    "\n",
    "    plt.gcf().tight_layout()\n",
    "\n",
    "    if save_path is not None:\n",
    "        plt.savefig(save_path)\n",
    "\n",
    "\n",
    "estm_dir = Path(data_dir / 'plume_sample/estimates')\n",
    "estimates = {}\n",
    "\n",
    "for fp in estm_dir.iterdir():\n",
    "    if fp.suffix != '.npy':\n",
    "        continue\n",
    "\n",
    "    name, idx, _ = fp.name.split('.')\n",
    "    _, teacher_name, _ = name.split('_')\n",
    "    if idx not in estimates:\n",
    "        estimates[idx] = {}\n",
    "\n",
    "    estimates[idx][teacher_name] = np.load(fp)\n",
    "\n",
    "for fp in estm_dir.iterdir():\n",
    "    if fp.suffix != '.pkl':\n",
    "        continue\n",
    "    \n",
    "    _, _, idx = fp.stem.split('_')\n",
    "    estimates[idx]['df'] = pd.read_pickle(fp)\n",
    "\n",
    "save_dir = Path('plume_est_plots')\n",
    "if not save_dir.exists():\n",
    "    save_dir.mkdir()\n",
    "\n",
    "for idx, res in estimates.items():\n",
    "    print(res.keys())\n",
    "    for name in ('inc', 'adp'):\n",
    "        plot_estimates(res['df'], res[name], name, save_path=save_dir / f'plume_{idx}_{name}.png')\n",
    "        plt.clf()"
   ]
  },
  {
   "cell_type": "code",
   "execution_count": null,
   "id": "41e25bae",
   "metadata": {},
   "outputs": [],
   "source": []
  }
 ],
 "metadata": {
  "interpreter": {
   "hash": "762482d73fb9f12186050631852045edb01f1c21121eb9b01a7b14f0b4aaea8a"
  },
  "kernelspec": {
   "display_name": "Python 3.9.7 64-bit ('venv_trail': venv)",
   "language": "python",
   "name": "python3"
  },
  "language_info": {
   "codemirror_mode": {
    "name": "ipython",
    "version": 3
   },
   "file_extension": ".py",
   "mimetype": "text/x-python",
   "name": "python",
   "nbconvert_exporter": "python",
   "pygments_lexer": "ipython3",
   "version": "3.10.12"
  }
 },
 "nbformat": 4,
 "nbformat_minor": 5
}
